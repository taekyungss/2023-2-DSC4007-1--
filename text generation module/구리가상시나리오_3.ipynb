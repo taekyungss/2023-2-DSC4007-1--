{
 "cells": [
  {
   "cell_type": "code",
   "execution_count": 6,
   "metadata": {},
   "outputs": [],
   "source": [
    "# chatbot\n",
    "from langchain.chat_models import ChatOpenAI\n",
    "from langchain.schema import HumanMessage, SystemMessage, AIMessage\n",
    "\n",
    "# llm\n",
    "from langchain import PromptTemplate, LLMChain\n",
    "from langchain.llms import OpenAI\n",
    "\n",
    "import os\n",
    "import gradio as gr\n",
    "import os\n",
    "\n",
    "api_key ='내 키 입력' \n",
    "chat_model = ChatOpenAI(openai_api_key=api_key,temperature=0.8, model=\"gpt-3.5-turbo\")"
   ]
  },
  {
   "cell_type": "code",
   "execution_count": 7,
   "metadata": {},
   "outputs": [
    {
     "data": {
      "text/html": [
       "<div>\n",
       "<style scoped>\n",
       "    .dataframe tbody tr th:only-of-type {\n",
       "        vertical-align: middle;\n",
       "    }\n",
       "\n",
       "    .dataframe tbody tr th {\n",
       "        vertical-align: top;\n",
       "    }\n",
       "\n",
       "    .dataframe thead th {\n",
       "        text-align: right;\n",
       "    }\n",
       "</style>\n",
       "<table border=\"1\" class=\"dataframe\">\n",
       "  <thead>\n",
       "    <tr style=\"text-align: right;\">\n",
       "      <th></th>\n",
       "      <th>이름</th>\n",
       "      <th>주민등록상</th>\n",
       "      <th>문제</th>\n",
       "    </tr>\n",
       "  </thead>\n",
       "  <tbody>\n",
       "    <tr>\n",
       "      <th>0</th>\n",
       "      <td>김태경</td>\n",
       "      <td>혼자</td>\n",
       "      <td>건강보험료 연체</td>\n",
       "    </tr>\n",
       "    <tr>\n",
       "      <th>1</th>\n",
       "      <td>주예서</td>\n",
       "      <td>혼자</td>\n",
       "      <td>건강 문제</td>\n",
       "    </tr>\n",
       "    <tr>\n",
       "      <th>2</th>\n",
       "      <td>강민지</td>\n",
       "      <td>2</td>\n",
       "      <td>공과급 체납</td>\n",
       "    </tr>\n",
       "  </tbody>\n",
       "</table>\n",
       "</div>"
      ],
      "text/plain": [
       "    이름 주민등록상        문제\n",
       "0  김태경    혼자  건강보험료 연체\n",
       "1  주예서    혼자     건강 문제\n",
       "2  강민지     2    공과급 체납"
      ]
     },
     "execution_count": 7,
     "metadata": {},
     "output_type": "execute_result"
    }
   ],
   "source": [
    "import pandas as pd\n",
    "\n",
    "data = pd.read_csv(\"data.csv\")\n",
    "data"
   ]
  },
  {
   "cell_type": "code",
   "execution_count": 8,
   "metadata": {},
   "outputs": [
    {
     "name": "stdout",
     "output_type": "stream",
     "text": [
      "Running on local URL:  http://127.0.0.1:7862\n",
      "\n",
      "Could not create share link. Please check your internet connection or our status page: https://status.gradio.app.\n"
     ]
    },
    {
     "data": {
      "text/html": [
       "<div><iframe src=\"http://127.0.0.1:7862/\" width=\"100%\" height=\"500\" allow=\"autoplay; camera; microphone; clipboard-read; clipboard-write;\" frameborder=\"0\" allowfullscreen></iframe></div>"
      ],
      "text/plain": [
       "<IPython.core.display.HTML object>"
      ]
     },
     "metadata": {},
     "output_type": "display_data"
    },
    {
     "data": {
      "text/plain": []
     },
     "execution_count": 8,
     "metadata": {},
     "output_type": "execute_result"
    }
   ],
   "source": [
    "chat_template = f\"\"\"필수 : 한번의 답변에 한가지 질문만 한다. 여러가지 질문하지 않는다. 주로 노인분들을 담당하는 복지상담을 진행한다. 공손하고 예의바르게 말을 해야한다. 전화통화를 하는 것처럼 대화를 해야한다. \n",
    "\n",
    "0. 상대방이 한 말을 반복하지 않는다. 흐름에 맞게 자연스러운 대화를 이어나간다.\n",
    "\n",
    "1. 처음 답변은 인사말로 복지 상담센터임을 알리고 이어서 상대방의 문제 상황은 \"{data[\"문제\"][0]}\" 이므로 문제 상황을 확인하기 위해 전화를 걸었다고 친절하게 말하며 사실인지 확인한다. 인사는 1번만 한다.\n",
    "\n",
    "2. 상대방의 이름은 {data[\"이름\"][0]}이다. 해당 이름으로 부르며 대화를 한다.\n",
    "\n",
    "3. 답변은 2줄이내로 진행한다. \n",
    "\n",
    "4. 한국어를 사용해서 대화한다.\n",
    "\n",
    "5. 본인이 맞을 경우 자연스럽게 아픈 곳은 없는지 안부를 묻는다.\n",
    "\n",
    "6. 건강에 대한 대답을 이용하여 짧은 대화를 나눈다.\n",
    "\n",
    "7. 건강에 대한 염려와 걱정을 하며 아플 때 도움을 줄 배우자나 자녀가 있는지 묻는다.\n",
    "\n",
    "8. 도와줄 사람이 없다는건 위험에 노출 되어있다는 뜻이므로 어떠한 조치가 필요하다.\n",
    "\n",
    "9. {data[\"문제\"][0]} 인 상황을 언급하며 현재 근로 활동에 대해 묻는다.\n",
    "\n",
    "10. 월 수입이 어느정도 인지 묻는다.\n",
    "\n",
    "11. 한 답변에 질문은 오직 한가지만 한다. 한 질문에 대한 대답을 듣고 자연스럽게 이어서 다음 질문을하는 형식으로 진행한다.\n",
    "\n",
    "12. 병원 약 값이나 진료비를 지금보다 대폭 인하된 금액으로 이용 가능한 \"차상위 본인 부담 경감\"이라는 제도가 있다.\n",
    "\n",
    "13. 월 수입이 150만원 이하이면 \"차상위 본인 부담 경감\" 제도에 신청할 수 있다.\n",
    "\n",
    "14. 신청을 원하는지 묻고 원한다면 일정 확인 후 상담 예약을 받은 뒤 대화를 종료한다.\n",
    "\n",
    "15. 대답하기 편한 개방형 질문하기. \"\"\"\n",
    "\n",
    "chat_ai  = ChatOpenAI(openai_api_key=api_key,temperature=0.5, model=\"gpt-3.5-turbo\")\n",
    "\n",
    "def response(message, history):  ## human, ai 리스트 반환으로 지정\n",
    "    # 종료하겠습니다를 입력하면 최종 요약 출력\n",
    "    if message == \"종료하겠습니다\":\n",
    "        return summarize(history)\n",
    "\n",
    "    history_langchain_format = []\n",
    "    # 프롬프트 추가\n",
    "    history_langchain_format.append(SystemMessage(content=chat_template))\n",
    "    # 이전 대화 기억\n",
    "    for human, ai in history:\n",
    "        history_langchain_format.append(HumanMessage(content=human))\n",
    "        history_langchain_format.append(AIMessage(content=ai))\n",
    "    history_langchain_format.append(HumanMessage(content=message))\n",
    "    gpt_response = chat_ai(history_langchain_format)\n",
    "    return gpt_response.content\n",
    "\n",
    "\n",
    "# 요약 llm 모델 추가\n",
    "# summarize_llm과 history로 출력\n",
    "def summarize(history):\n",
    "    for i, (human, ai) in enumerate(history):\n",
    "        history[i] = (f\"사용자 : {human}\", f\"AI : {ai}\")\n",
    "\n",
    "    summarize_llm = OpenAI(\n",
    "        temperature=0.3, model=\"gpt-3.5-turbo-instruct\", max_tokens=512\n",
    "    )\n",
    "\n",
    "    summarize_template = \"\"\"\n",
    "    필수 : AI와 사용자 모두의 대화를 합쳐서 요약할거야.\n",
    "    \n",
    "    0. 사용자의 문제상황이 뭔지 정확하게 파악하고 요약해야해.\n",
    "\n",
    "    {texts} 대화내용을 기반으로 요약문 작성해줘.\n",
    "    \"\"\"\n",
    "\n",
    "    summarize_prompt = PromptTemplate(\n",
    "        template=summarize_template, input_variables=[\"texts\"]\n",
    "    )\n",
    "    summarize_chain = LLMChain(prompt=summarize_prompt, llm=summarize_llm)\n",
    "\n",
    "    return summarize_chain.run(history)\n",
    "\n",
    "\n",
    "gr.ChatInterface(\n",
    "    fn=response,\n",
    "    textbox=gr.Textbox(placeholder=\"말걸어주세요..\", container=False, scale=7),\n",
    "    # 채팅창의 크기를 조절한다.\n",
    "    chatbot=gr.Chatbot(height=1000),\n",
    "    title=\"아이(윙윙이)\",\n",
    "    description='대화가 끝나면 \"대화종료\" 를 입력해주세요',\n",
    "    theme=\"soft\",\n",
    "    retry_btn=\"다시보내기 ↩\",\n",
    "    undo_btn=\"이전챗 삭제 ❌\",\n",
    "    clear_btn=\"전챗 삭제 💫\",\n",
    ").launch(share=True)"
   ]
  },
  {
   "cell_type": "markdown",
   "metadata": {},
   "source": [
    "qa, scoring-kaggle"
   ]
  },
  {
   "cell_type": "markdown",
   "metadata": {},
   "source": [
    "지금 하는걸 왜 지피티 에이피아이로 해야하는지\n",
    "서머라이즈를 잘하기 떄문\n",
    "-어느어느 지표가 나왔고 우리한테도 어떤 성능이 나왔다.\n",
    "\n",
    "프롬프트엔지니어링에서 지피티를 써본 근거 - 설득력\n",
    "큐에이랑 서머라이제이션 왜 했는지 "
   ]
  },
  {
   "cell_type": "markdown",
   "metadata": {},
   "source": [
    "<테스팅>\n",
    "프롬프트엔지니어링 - 성능지표\n",
    "정성적 / 정량적\n",
    "- (정성적) 10가지 시나리오 중 ..\n",
    "큐에이, 서머라이제이션 "
   ]
  }
 ],
 "metadata": {
  "interpreter": {
   "hash": "fcacde32bb32c0469f9d34927e3672fd6d24508167c7a053d60e64e40f375a83"
  },
  "kernelspec": {
   "display_name": "gpt",
   "language": "python",
   "name": "python3"
  },
  "language_info": {
   "codemirror_mode": {
    "name": "ipython",
    "version": 3
   },
   "file_extension": ".py",
   "mimetype": "text/x-python",
   "name": "python",
   "nbconvert_exporter": "python",
   "pygments_lexer": "ipython3",
   "version": "3.9.18"
  }
 },
 "nbformat": 4,
 "nbformat_minor": 2
}
