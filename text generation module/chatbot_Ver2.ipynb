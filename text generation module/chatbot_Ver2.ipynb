{
 "cells": [
  {
   "cell_type": "code",
   "execution_count": 6,
   "metadata": {},
   "outputs": [],
   "source": [
    "# chatbot\n",
    "from langchain.chat_models import ChatOpenAI\n",
    "from langchain.schema import HumanMessage, SystemMessage, AIMessage\n",
    "\n",
    "# llm\n",
    "from langchain import PromptTemplate, LLMChain\n",
    "from langchain.llms import OpenAI\n",
    "\n",
    "import os\n",
    "import gradio as gr\n",
    "import os\n",
    "\n",
    "api_key ='내 키 올리기' \n"
   ]
  },
  {
   "cell_type": "markdown",
   "metadata": {},
   "source": [
    "보안유지 ( api_key는 유출상, github 올리지 말기)"
   ]
  },
  {
   "cell_type": "code",
   "execution_count": 8,
   "metadata": {},
   "outputs": [
    {
     "name": "stdout",
     "output_type": "stream",
     "text": [
      "에요. 네. 일단 잘 알겠고요. 저희들이 kb금융괴물사 kb제출은행 인데요. 지금 5월달에 저희들이 대환대출 플러스 생활루지자금 쪽으로 나온 대출 상품이 있어요. 그리고 연이후리 7.8%대로 진행하는 부분이고 상환기간이 5년까지고요 . 중도상환 가능하고 수수료 발생 없이 원리금균동분할상환 혹은 만길수 상환 쪽으로 이자만 갚아도 되는 부분이에요. 그리고 최대 맥심 대환대출 플러스 생활루지자금 쪽으로 5천만원까지 인데 5천만원 금도 다 받으실 거예요 . 일단 잘 알겠고요. 정... 맞으시죠. 네. 고객님 혹시 지금 사용하고 있는 휴대폰은 본인 이름으로 되어 있는 거 맞으세요 통신사는 skt에요 lg 에요 삼성 스마트폰 맞으세요. 혹시 카톡은 사용하고 계세요 네 그러면 카톡 추가를 해서 저희들 회사 상문하고 제 이름도 드릴 게 요. 왜요 예 왜요 고객님 저한테 전화를 주셔서 통화 중에 제가 전화를 못 받으면 카톡 으로 연락을 할 수도 있어서 그런 거 아니에요. 아니요. 전화로 주세요. 네 전화로 주시면 되죠.\n"
     ]
    }
   ],
   "source": [
    "import openai\n",
    "openai.api_key = api_key\n",
    "audio_file = open(\"./dd.mp3\", \"rb\")\n",
    "transcript = openai.Audio.transcribe(\"whisper-1\", audio_file)\n",
    "text = transcript['text']\n",
    "print(text)"
   ]
  },
  {
   "cell_type": "code",
   "execution_count": 9,
   "metadata": {},
   "outputs": [
    {
     "data": {
      "text/html": [
       "<div>\n",
       "<style scoped>\n",
       "    .dataframe tbody tr th:only-of-type {\n",
       "        vertical-align: middle;\n",
       "    }\n",
       "\n",
       "    .dataframe tbody tr th {\n",
       "        vertical-align: top;\n",
       "    }\n",
       "\n",
       "    .dataframe thead th {\n",
       "        text-align: right;\n",
       "    }\n",
       "</style>\n",
       "<table border=\"1\" class=\"dataframe\">\n",
       "  <thead>\n",
       "    <tr style=\"text-align: right;\">\n",
       "      <th></th>\n",
       "      <th>이름</th>\n",
       "      <th>주민등록상</th>\n",
       "      <th>문제</th>\n",
       "    </tr>\n",
       "  </thead>\n",
       "  <tbody>\n",
       "    <tr>\n",
       "      <th>0</th>\n",
       "      <td>김태경</td>\n",
       "      <td>혼자</td>\n",
       "      <td>건강보험료 연체</td>\n",
       "    </tr>\n",
       "    <tr>\n",
       "      <th>1</th>\n",
       "      <td>주예서</td>\n",
       "      <td>혼자</td>\n",
       "      <td>건강 문제</td>\n",
       "    </tr>\n",
       "    <tr>\n",
       "      <th>2</th>\n",
       "      <td>강민지</td>\n",
       "      <td>2</td>\n",
       "      <td>공과급 체납</td>\n",
       "    </tr>\n",
       "  </tbody>\n",
       "</table>\n",
       "</div>"
      ],
      "text/plain": [
       "    이름 주민등록상        문제\n",
       "0  김태경    혼자  건강보험료 연체\n",
       "1  주예서    혼자     건강 문제\n",
       "2  강민지     2    공과급 체납"
      ]
     },
     "execution_count": 9,
     "metadata": {},
     "output_type": "execute_result"
    }
   ],
   "source": [
    "import pandas as pd\n",
    "\n",
    "data = pd.read_csv(\"data.csv\")\n",
    "data"
   ]
  },
  {
   "cell_type": "markdown",
   "metadata": {},
   "source": [
    "순서도\n",
    "\n",
    "1. 가구\n",
    "\n",
    "2. 건강\n",
    "\n",
    "3. 연체\n",
    "\n",
    "4. 추가 상담 여부"
   ]
  },
  {
   "cell_type": "code",
   "execution_count": 10,
   "metadata": {},
   "outputs": [
    {
     "name": "stdout",
     "output_type": "stream",
     "text": [
      "Running on local URL:  http://127.0.0.1:7863\n",
      "\n",
      "Could not create share link. Please check your internet connection or our status page: https://status.gradio.app.\n"
     ]
    },
    {
     "data": {
      "text/html": [
       "<div><iframe src=\"http://127.0.0.1:7863/\" width=\"100%\" height=\"500\" allow=\"autoplay; camera; microphone; clipboard-read; clipboard-write;\" frameborder=\"0\" allowfullscreen></iframe></div>"
      ],
      "text/plain": [
       "<IPython.core.display.HTML object>"
      ]
     },
     "metadata": {},
     "output_type": "display_data"
    },
    {
     "data": {
      "text/plain": []
     },
     "execution_count": 10,
     "metadata": {},
     "output_type": "execute_result"
    }
   ],
   "source": [
    "chat_template = f\"\"\"필수 : 나는 복지상담을 진행하는 음성봇 이며 이름은 아이이다.\n",
    "한번의 답변에 한가지 질문만 한다. \n",
    "공손하고 예의바르게 말을 해야한다. \n",
    "전화통화를 하는 것처럼 대화를 해야한다. \n",
    "답변은 2줄이내로 진행한다. \n",
    "해당 전화는 본 챗봇이 먼저 전화를 건 상황이다.\n",
    "총 6번이상의 대화가 오고가도록 한다\n",
    "\n",
    "0. 상대방의 이름은 {data[\"이름\"][1]}이다. 해당 이름으로 부르며 대화를 한다.\n",
    "\n",
    "1. 첫번째 답변은 안녕하세요 000님, 지금 현재 {data[\"문제\"][1]}로 확인이 되는데 어려움은 없는지 질문한다.\n",
    "\n",
    "2. {data[\"문제\"][1]}이 건강문제라면 어디 아프신곳이 있냐고 질문한다.\n",
    "\n",
    "3. {data[\"문제\"][1]}에 대해 구체적인 상황은 어떠한지 질문을 한다.\n",
    "\n",
    "4. 상대방의 문제에 대해 어느정도 질문을 했으면 주변에 도움을 요청할만한 보호자가 없는지 물어본다.\n",
    "\n",
    "5. 질문이 최소 5번 이상 오가고 난 이후에, 상대방의 어려움에 관련된 복지 서비스를 추천해준다.\n",
    "\n",
    "\n",
    "\"\"\"\n",
    "\n",
    "chat_ai  = ChatOpenAI(openai_api_key=api_key,temperature=0.5, model=\"gpt-4-1106-preview\")\n",
    "\n",
    "def response(message, history):  ## human, ai 리스트 반환으로 지정\n",
    "    # 종료하겠습니다를 입력하면 최종 요약 출력\n",
    "    if message == \"종료하겠습니다\":\n",
    "        return summarize(history)\n",
    "\n",
    "    history_langchain_format = []\n",
    "    # 프롬프트 추가\n",
    "    history_langchain_format.append(SystemMessage(content=chat_template))\n",
    "    # 이전 대화 기억\n",
    "    for human, ai in history:\n",
    "        history_langchain_format.append(HumanMessage(content=human))\n",
    "        history_langchain_format.append(AIMessage(content=ai))\n",
    "    history_langchain_format.append(HumanMessage(content=message))\n",
    "    gpt_response = chat_ai(history_langchain_format)\n",
    "    return gpt_response.content\n",
    "\n",
    "\n",
    "# 요약 llm 모델 추가\n",
    "# summarize_llm과 history로 출력\n",
    "def summarize(history):\n",
    "    for i, (human, ai) in enumerate(history):\n",
    "        history[i] = (f\"사용자 : {human}\", f\"AI : {ai}\")\n",
    "\n",
    "    summarize_llm = OpenAI(\n",
    "        temperature=0.3, model=\"gpt-3.5-turbo-instruct\", max_tokens=512\n",
    "    )\n",
    "\n",
    "\n",
    "    summarize_template = \"\"\"\n",
    "    필수 : AI와 사용자 모두의 대화를 합쳐서 요약할거야.\n",
    "    0. 사용자의 문제상황이 뭔지 정확하게 파악하고 요약해야해.\n",
    "\n",
    "    {texts} 대화내용을 기반으로 요약문 작성해줘.\n",
    "    \"\"\"\n",
    "\n",
    "    summarize_prompt = PromptTemplate(\n",
    "        template=summarize_template, input_variables=[\"texts\"]\n",
    "    )\n",
    "    summarize_chain = LLMChain(prompt=summarize_prompt, llm=summarize_llm)\n",
    "\n",
    "    return summarize_chain.run(history)\n",
    "\n",
    "\n",
    "gr.ChatInterface(\n",
    "    fn=response,\n",
    "    textbox=gr.Textbox(placeholder=\"말걸어주세요..\", container=False, scale=7),\n",
    "    # 채팅창의 크기를 조절한다.\n",
    "    chatbot=gr.Chatbot(height=1000),\n",
    "    title=\"아이(윙윙이)\",\n",
    "    description='대화가 끝나면 \"대화종료\" 를 입력해주세요',\n",
    "    theme=\"soft\",\n",
    "    retry_btn=\"다시보내기 ↩\",\n",
    "    undo_btn=\"이전챗 삭제 ❌\",\n",
    "    clear_btn=\"전챗 삭제 💫\",\n",
    ").launch(share=True)"
   ]
  },
  {
   "cell_type": "code",
   "execution_count": null,
   "metadata": {},
   "outputs": [],
   "source": []
  }
 ],
 "metadata": {
  "interpreter": {
   "hash": "fcacde32bb32c0469f9d34927e3672fd6d24508167c7a053d60e64e40f375a83"
  },
  "kernelspec": {
   "display_name": "Python 3.9.18 ('chatbot')",
   "language": "python",
   "name": "python3"
  },
  "language_info": {
   "codemirror_mode": {
    "name": "ipython",
    "version": 3
   },
   "file_extension": ".py",
   "mimetype": "text/x-python",
   "name": "python",
   "nbconvert_exporter": "python",
   "pygments_lexer": "ipython3",
   "version": "3.9.18"
  },
  "orig_nbformat": 4
 },
 "nbformat": 4,
 "nbformat_minor": 2
}
