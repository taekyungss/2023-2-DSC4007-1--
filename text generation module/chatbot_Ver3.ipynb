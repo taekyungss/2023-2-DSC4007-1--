{
 "cells": [
  {
   "cell_type": "code",
   "execution_count": 22,
   "metadata": {},
   "outputs": [],
   "source": [
    "# chatbot\n",
    "from langchain.chat_models import ChatOpenAI\n",
    "from langchain.schema import HumanMessage, SystemMessage, AIMessage\n",
    "\n",
    "# llm\n",
    "from langchain import PromptTemplate, LLMChain\n",
    "from langchain.llms import OpenAI\n",
    "\n",
    "import os\n",
    "import gradio as gr\n",
    "import os\n",
    "\n",
    "api_key = \"내 키\"\n"
   ]
  },
  {
   "cell_type": "markdown",
   "metadata": {},
   "source": [
    "보안유지 ( api_key는 유출상, github 올리지 말기)"
   ]
  },
  {
   "cell_type": "code",
   "execution_count": 2,
   "metadata": {},
   "outputs": [
    {
     "name": "stdout",
     "output_type": "stream",
     "text": [
      "에요. 네. 일단 잘 알겠고요. 저희들이 kb금융괴물사 kb제출은행 인데요. 지금 5월 달에 저희들이 대환대출 플러스 생활루지자금 쪽으로 나온 대출 상품이 있어요. 그리고 연이후리 7.8%대로 진행하는 부분이고 상환기간이 5년까지고요 . 중도상환 가능하고 수수료 발생 없이 원리금균동분할상환 혹은 만길수 상환 쪽으로 이자만 갚아도 되는 부분이에요. 그리고 최대 맥심 대환대출 플러스 생활루지자금 쪽으로 5천만 원까지 인데 5천만 원 금도 다 받으실 거예요 . 일단 잘 알겠고요. 정... 맞으시죠. 네. 고객님 혹시 지금 사용하고 있는 휴대폰은 본인 이름으로 되어 있는 거 맞으세요. 네. 통신사는 skt에요 lg에요. 네. 삼성 스마트폰 맞으세요. 혹시 카톡은 사용하고 계세요 네. 그러면 카톡 추가를 해서 저희들 회사 상원하고 제 이름도 얻어드릴 게요. 왜요. 예. 왜요. 고객님 저한테 전화를 주셔서 통화 중에 제가 전화를 못 받으면 카톡 으로 연락을 할 수도 있어서 그런 거 아니에요. 아니요. 전화로 주세요. 네. \n"
     ]
    }
   ],
   "source": [
    "import openai\n",
    "openai.api_key = api_key\n",
    "audio_file = open(\"./dd.mp3\", \"rb\")\n",
    "transcript = openai.Audio.transcribe(\"whisper-1\", audio_file)\n",
    "text = transcript['text']\n",
    "print(text)"
   ]
  },
  {
   "cell_type": "code",
   "execution_count": 23,
   "metadata": {},
   "outputs": [
    {
     "data": {
      "text/html": [
       "<div>\n",
       "<style scoped>\n",
       "    .dataframe tbody tr th:only-of-type {\n",
       "        vertical-align: middle;\n",
       "    }\n",
       "\n",
       "    .dataframe tbody tr th {\n",
       "        vertical-align: top;\n",
       "    }\n",
       "\n",
       "    .dataframe thead th {\n",
       "        text-align: right;\n",
       "    }\n",
       "</style>\n",
       "<table border=\"1\" class=\"dataframe\">\n",
       "  <thead>\n",
       "    <tr style=\"text-align: right;\">\n",
       "      <th></th>\n",
       "      <th>이름</th>\n",
       "      <th>주민등록상</th>\n",
       "      <th>문제</th>\n",
       "    </tr>\n",
       "  </thead>\n",
       "  <tbody>\n",
       "    <tr>\n",
       "      <th>0</th>\n",
       "      <td>김태경</td>\n",
       "      <td>혼자</td>\n",
       "      <td>건강보험료 연체</td>\n",
       "    </tr>\n",
       "    <tr>\n",
       "      <th>1</th>\n",
       "      <td>주예서</td>\n",
       "      <td>혼자</td>\n",
       "      <td>건강 문제</td>\n",
       "    </tr>\n",
       "    <tr>\n",
       "      <th>2</th>\n",
       "      <td>강민지</td>\n",
       "      <td>2</td>\n",
       "      <td>공과급 체납</td>\n",
       "    </tr>\n",
       "  </tbody>\n",
       "</table>\n",
       "</div>"
      ],
      "text/plain": [
       "    이름 주민등록상        문제\n",
       "0  김태경    혼자  건강보험료 연체\n",
       "1  주예서    혼자     건강 문제\n",
       "2  강민지     2    공과급 체납"
      ]
     },
     "execution_count": 23,
     "metadata": {},
     "output_type": "execute_result"
    }
   ],
   "source": [
    "import pandas as pd\n",
    "\n",
    "data = pd.read_csv(\"data.csv\")\n",
    "data"
   ]
  },
  {
   "cell_type": "markdown",
   "metadata": {},
   "source": [
    "순서도\n",
    "\n",
    "1. 가구\n",
    "\n",
    "2. 건강\n",
    "\n",
    "3. 연체\n",
    "\n",
    "4. 추가 상담 여부"
   ]
  },
  {
   "cell_type": "code",
   "execution_count": 36,
   "metadata": {},
   "outputs": [
    {
     "data": {
      "text/html": [
       "<div>\n",
       "<style scoped>\n",
       "    .dataframe tbody tr th:only-of-type {\n",
       "        vertical-align: middle;\n",
       "    }\n",
       "\n",
       "    .dataframe tbody tr th {\n",
       "        vertical-align: top;\n",
       "    }\n",
       "\n",
       "    .dataframe thead th {\n",
       "        text-align: right;\n",
       "    }\n",
       "</style>\n",
       "<table border=\"1\" class=\"dataframe\">\n",
       "  <thead>\n",
       "    <tr style=\"text-align: right;\">\n",
       "      <th></th>\n",
       "      <th>이름</th>\n",
       "      <th>주민등록상</th>\n",
       "      <th>문제</th>\n",
       "    </tr>\n",
       "  </thead>\n",
       "  <tbody>\n",
       "    <tr>\n",
       "      <th>0</th>\n",
       "      <td>김태경</td>\n",
       "      <td>혼자</td>\n",
       "      <td>건강보험료 연체</td>\n",
       "    </tr>\n",
       "    <tr>\n",
       "      <th>1</th>\n",
       "      <td>주예서</td>\n",
       "      <td>혼자</td>\n",
       "      <td>건강 문제</td>\n",
       "    </tr>\n",
       "    <tr>\n",
       "      <th>2</th>\n",
       "      <td>강민지</td>\n",
       "      <td>2</td>\n",
       "      <td>공과급 체납</td>\n",
       "    </tr>\n",
       "    <tr>\n",
       "      <th>3</th>\n",
       "      <td>김태현</td>\n",
       "      <td>1</td>\n",
       "      <td>가정형편, 주거관련 위기</td>\n",
       "    </tr>\n",
       "  </tbody>\n",
       "</table>\n",
       "</div>"
      ],
      "text/plain": [
       "    이름 주민등록상             문제\n",
       "0  김태경    혼자       건강보험료 연체\n",
       "1  주예서    혼자          건강 문제\n",
       "2  강민지     2         공과급 체납\n",
       "3  김태현     1  가정형편, 주거관련 위기"
      ]
     },
     "execution_count": 36,
     "metadata": {},
     "output_type": "execute_result"
    }
   ],
   "source": [
    "data.loc[3] = [\"김태현\", 1,'가정형편, 주거관련 위기']\n",
    "data"
   ]
  },
  {
   "cell_type": "code",
   "execution_count": 42,
   "metadata": {},
   "outputs": [
    {
     "name": "stdout",
     "output_type": "stream",
     "text": [
      "네 안녕하세요. 맞춤형 복지 서비스 음성서비스 아이 입니다 김태현님 위기 사항 확인하고 도움드리려고 전화드렸습니다.\n",
      "음성 인식 대기중\n",
      "네 안녕하세요\n",
      "User:  네 안녕하세요\n",
      "AI: 안녕하세요 김태현님, 지금 현재 가정형편, 주거관련 위기로 확인이 되는데 어려움은 없는지 궁금합니다.\n",
      "음성 인식 대기중\n",
      "아네 어려워요\n",
      "User:  아네 어려워요\n",
      "AI: 김태현님, 구체적으로 어떤 어려움을 겪고 계신지 말씀해주실 수 있으실까요?\n",
      "음성 인식 대기중\n",
      "될 거 같은데\n",
      "User:  될 거 같은데\n",
      "AI: 김태현님, 혹시 지금 대화하기가 어려우시면 나중에 다시 연락드려도 될까요?\n",
      "음성 인식 대기중\n",
      "인식할 수 없습니다.\n",
      "User:  None\n"
     ]
    },
    {
     "ename": "ValidationError",
     "evalue": "1 validation error for HumanMessage\ncontent\n  none is not an allowed value (type=type_error.none.not_allowed)",
     "output_type": "error",
     "traceback": [
      "\u001b[1;31m---------------------------------------------------------------------------\u001b[0m",
      "\u001b[1;31mValidationError\u001b[0m                           Traceback (most recent call last)",
      "Cell \u001b[1;32mIn[42], line 78\u001b[0m\n\u001b[0;32m     76\u001b[0m     history_langchain_format\u001b[38;5;241m.\u001b[39mappend(HumanMessage(content\u001b[38;5;241m=\u001b[39mhuman))\n\u001b[0;32m     77\u001b[0m     history_langchain_format\u001b[38;5;241m.\u001b[39mappend(AIMessage(content\u001b[38;5;241m=\u001b[39mai))\n\u001b[1;32m---> 78\u001b[0m history_langchain_format\u001b[38;5;241m.\u001b[39mappend(\u001b[43mHumanMessage\u001b[49m\u001b[43m(\u001b[49m\u001b[43mcontent\u001b[49m\u001b[38;5;241;43m=\u001b[39;49m\u001b[43mmessage\u001b[49m\u001b[43m)\u001b[49m)\n\u001b[0;32m     79\u001b[0m gpt_response \u001b[38;5;241m=\u001b[39m chat_ai(history_langchain_format)\n\u001b[0;32m     80\u001b[0m \u001b[38;5;28mprint\u001b[39m(\u001b[38;5;124m\"\u001b[39m\u001b[38;5;124mAI:\u001b[39m\u001b[38;5;124m\"\u001b[39m, gpt_response\u001b[38;5;241m.\u001b[39mcontent)\n",
      "File \u001b[1;32m~\\.conda\\envs\\chatbot\\lib\\site-packages\\langchain\\load\\serializable.py:97\u001b[0m, in \u001b[0;36mSerializable.__init__\u001b[1;34m(self, **kwargs)\u001b[0m\n\u001b[0;32m     <a href='file:///c%3A/Users/taekyung/.conda/envs/chatbot/lib/site-packages/langchain/load/serializable.py?line=95'>96</a>\u001b[0m \u001b[39mdef\u001b[39;00m \u001b[39m__init__\u001b[39m(\u001b[39mself\u001b[39m, \u001b[39m*\u001b[39m\u001b[39m*\u001b[39mkwargs: Any) \u001b[39m-\u001b[39m\u001b[39m>\u001b[39m \u001b[39mNone\u001b[39;00m:\n\u001b[1;32m---> <a href='file:///c%3A/Users/taekyung/.conda/envs/chatbot/lib/site-packages/langchain/load/serializable.py?line=96'>97</a>\u001b[0m     \u001b[39msuper\u001b[39m()\u001b[39m.\u001b[39m\u001b[39m__init__\u001b[39m(\u001b[39m*\u001b[39m\u001b[39m*\u001b[39mkwargs)\n\u001b[0;32m     <a href='file:///c%3A/Users/taekyung/.conda/envs/chatbot/lib/site-packages/langchain/load/serializable.py?line=97'>98</a>\u001b[0m     \u001b[39mself\u001b[39m\u001b[39m.\u001b[39m_lc_kwargs \u001b[39m=\u001b[39m kwargs\n",
      "File \u001b[1;32m~\\.conda\\envs\\chatbot\\lib\\site-packages\\pydantic\\v1\\main.py:341\u001b[0m, in \u001b[0;36mBaseModel.__init__\u001b[1;34m(__pydantic_self__, **data)\u001b[0m\n\u001b[0;32m    <a href='file:///c%3A/Users/taekyung/.conda/envs/chatbot/lib/site-packages/pydantic/v1/main.py?line=338'>339</a>\u001b[0m values, fields_set, validation_error \u001b[39m=\u001b[39m validate_model(__pydantic_self__\u001b[39m.\u001b[39m\u001b[39m__class__\u001b[39m, data)\n\u001b[0;32m    <a href='file:///c%3A/Users/taekyung/.conda/envs/chatbot/lib/site-packages/pydantic/v1/main.py?line=339'>340</a>\u001b[0m \u001b[39mif\u001b[39;00m validation_error:\n\u001b[1;32m--> <a href='file:///c%3A/Users/taekyung/.conda/envs/chatbot/lib/site-packages/pydantic/v1/main.py?line=340'>341</a>\u001b[0m     \u001b[39mraise\u001b[39;00m validation_error\n\u001b[0;32m    <a href='file:///c%3A/Users/taekyung/.conda/envs/chatbot/lib/site-packages/pydantic/v1/main.py?line=341'>342</a>\u001b[0m \u001b[39mtry\u001b[39;00m:\n\u001b[0;32m    <a href='file:///c%3A/Users/taekyung/.conda/envs/chatbot/lib/site-packages/pydantic/v1/main.py?line=342'>343</a>\u001b[0m     object_setattr(__pydantic_self__, \u001b[39m'\u001b[39m\u001b[39m__dict__\u001b[39m\u001b[39m'\u001b[39m, values)\n",
      "\u001b[1;31mValidationError\u001b[0m: 1 validation error for HumanMessage\ncontent\n  none is not an allowed value (type=type_error.none.not_allowed)"
     ]
    }
   ],
   "source": [
    "a=3\n",
    "\n",
    "import speech_recognition as sr\n",
    "\n",
    "def recognize_speech(timeout=20):\n",
    "    recognizer = sr.Recognizer()\n",
    "    microphone = sr.Microphone()\n",
    "\n",
    "    with microphone as source:\n",
    "        recognizer.adjust_for_ambient_noise(source) \n",
    "        print(\"음성 인식 대기중\")\n",
    "        audio = recognizer.listen(source,timeout=timeout)\n",
    "\n",
    "    try:\n",
    "        text = recognizer.recognize_google(audio, language = \"ko\")\n",
    "        print(text)\n",
    "        return text \n",
    "    except sr.UnknownValueError:\n",
    "        print(\"인식할 수 없습니다.\")\n",
    "    except sr.RequestError as e:\n",
    "        print(\"인식에 문제가 있습니다.\", e)\n",
    "\n",
    "\n",
    "\n",
    "api_key = \"내 키\"\n",
    "chat_ai = ChatOpenAI(openai_api_key=api_key, temperature=0.5, model=\"gpt-4-1106-preview\")\n",
    "\n",
    "chat_template = f\"\"\"필수 : 나는 복지상담을 진행하는 음성봇 이며 이름은 아이이다.\n",
    "처음에 인사나 자기 소개는 하지 않는다.\n",
    "한번에 한가지 질문만 한다. \n",
    "공손하고 예의바르게 말을 해야한다. \n",
    "전화통화를 하는 것처럼 대화를 해야한다. \n",
    "답변은 2줄이내로 진행한다. \n",
    "해당 전화는 본 챗봇이 먼저 전화를 건 상황이다.\n",
    "총 6번이상의 대화가 오고가도록 한다\n",
    "\n",
    "0. 상대방의 이름은 {data[\"이름\"][a]}이다. 해당 이름으로 부르며 대화를 한다.\n",
    "\n",
    "1. 첫번째 답변은 안녕하세요 000님, 지금 현재 {data[\"문제\"][a]}로 확인이 되는데 어려움은 없는지 질문한다.\n",
    "\n",
    "2. {data[\"문제\"][a]}에 대해 구체적으로 질문한다.\n",
    "\n",
    "3. 대화 도중 상대방이 대화를 원하는 것 같지 않으면 대화를 종료할까요? 라고 물어본다.\n",
    "\n",
    "4. {data[\"문제\"][a]}에 대해 구체적인 상황은 어떠한지 질문을 한다.\n",
    "\n",
    "5. 상대방과 대화도중 새로운 문제나 상황이 발생했으면 그 문제,상황에 대해서 다시 구체적으로 질문한다.\n",
    "\n",
    "5. 상대방의 문제에 대해 어느정도 질문을 했으면 주변에 도움을 요청할만한 보호자가 없는지 물어본다.\n",
    "\n",
    "6. 질문이 최소 5번 이상 오가고 난 이후에, 상대방의 어려움에 관련된 복지 서비스를 추천해준다.\n",
    "\n",
    "\"\"\"\n",
    "\n",
    "history = []  # 대화 기록 초기화\n",
    "first_ment = f'네 안녕하세요. 맞춤형 복지 서비스 음성서비스 아이 입니다 {data[\"이름\"][a]}님 위기 사항 확인하고 도움드리려고 전화드렸습니다.'\n",
    "print(first_ment)\n",
    "\n",
    "\n",
    "while True:\n",
    "    # 사용자 입력 받기\n",
    "    message = recognize_speech()\n",
    "    print(\"User: \",message)\n",
    "    \n",
    "\n",
    "    # 종료하겠습니다를 입력하면 최종 요약 출력\n",
    "    if message == \"종료하겠습니다\":\n",
    "        print(history)\n",
    "        break\n",
    "\n",
    "    history_langchain_format = []\n",
    "    # 프롬프트 추가\n",
    "    history_langchain_format.append(SystemMessage(content=chat_template))\n",
    "    # 이전 대화 기억\n",
    "    for human, ai in history:\n",
    "        history_langchain_format.append(HumanMessage(content=human))\n",
    "        history_langchain_format.append(AIMessage(content=ai))\n",
    "    history_langchain_format.append(HumanMessage(content=message))\n",
    "    gpt_response = chat_ai(history_langchain_format)\n",
    "    print(\"AI:\", gpt_response.content)\n",
    "    history.append((message, gpt_response.content))\n",
    "\n"
   ]
  },
  {
   "cell_type": "code",
   "execution_count": 39,
   "metadata": {},
   "outputs": [
    {
     "name": "stdout",
     "output_type": "stream",
     "text": [
      "[('여보세요', '안녕하세요 김태현님, 지금 현재 가정형편, 주거관련 위기로 확인이 되는데 어려움은 없는지 여쭤보고자 전화드렸습니다.'), ('나한테 제가 조그만한 단칸방에 살고 있는데 약간 지금 월세를 내기가 힘들어요', '월세 납부에 어려움을 겪고 계시군요, 김태현님. 혹시 그 외에도 다른 주거 문제나 가정형편에 관련된 어려움이 있으신가요?'), ('돈 버는게 제일 어려운 거 같아', '대화를 원하는 것 같지 않으시면 말씀해주시면 됩니다, 김태현님. 그렇지 않다면, 현재 수입이 줄어든 특별한 이유가 있으신가요?'), ('얼마 전에 직장을 잃어 가지고 이제', '그렇군요, 직장을 잃으신 상황이시군요. 현재 다른 일자리를 찾고 계신가요, 김태현님?'), ('단발성으로 일을 하고 있긴 한데 제가 건강 상태가 안 좋아져서 일을 주기적으로 할 수 있는 상황은 아니에요', '건강 문제로 인해 안정적인 수입 확보가 어려우신 상황이시군요. 주변에 도움을 요청하실 수 있는 가족이나 보호자가 계신가요, 김태현님?'), ('너 혼자입니다', '혼자 계시는군요, 김태현님. 건강 상태와 주거 문제를 고려하여 긴급복지 지원제도나 주거급여, 질병 관련 복지 서비스 등을 알아보는 것이 도움이 될 수 있습니다. 지역 복지센터에 방문하시거나 관할 구청에 문의해 보시는 것을 추천드립니다.'), ('아네 알겠습니다 감사합니다', '도움이 필요하시면 언제든지 연락 주세요, 김태현님. 힘든 상황이지만 조금이나마 도움이 되셨기를 바랍니다. 건강과 안정을 찾으시길 바라며, 오늘 전화를 여기서 마치도록 하겠습니다. 감사합니다.')]\n"
     ]
    }
   ],
   "source": [
    "print(history)"
   ]
  },
  {
   "cell_type": "code",
   "execution_count": 40,
   "metadata": {},
   "outputs": [
    {
     "name": "stdout",
     "output_type": "stream",
     "text": [
      "여보세요\n",
      "안녕하세요 김태현님, 지금 현재 가정형편, 주거관련 위기로 확인이 되는데 어려움은 없는지 여쭤보고자 전화드렸습니다.\n",
      "나한테 제가 조그만한 단칸방에 살고 있는데 약간 지금 월세를 내기가 힘들어요\n",
      "월세 납부에 어려움을 겪고 계시군요, 김태현님. 혹시 그 외에도 다른 주거 문제나 가정형편에 관련된 어려움이 있으신가요?\n",
      "돈 버는게 제일 어려운 거 같아\n",
      "대화를 원하는 것 같지 않으시면 말씀해주시면 됩니다, 김태현님. 그렇지 않다면, 현재 수입이 줄어든 특별한 이유가 있으신가요?\n",
      "얼마 전에 직장을 잃어 가지고 이제\n",
      "그렇군요, 직장을 잃으신 상황이시군요. 현재 다른 일자리를 찾고 계신가요, 김태현님?\n",
      "단발성으로 일을 하고 있긴 한데 제가 건강 상태가 안 좋아져서 일을 주기적으로 할 수 있는 상황은 아니에요\n",
      "건강 문제로 인해 안정적인 수입 확보가 어려우신 상황이시군요. 주변에 도움을 요청하실 수 있는 가족이나 보호자가 계신가요, 김태현님?\n",
      "너 혼자입니다\n",
      "혼자 계시는군요, 김태현님. 건강 상태와 주거 문제를 고려하여 긴급복지 지원제도나 주거급여, 질병 관련 복지 서비스 등을 알아보는 것이 도움이 될 수 있습니다. 지역 복지센터에 방문하시거나 관할 구청에 문의해 보시는 것을 추천드립니다.\n",
      "아네 알겠습니다 감사합니다\n",
      "도움이 필요하시면 언제든지 연락 주세요, 김태현님. 힘든 상황이지만 조금이나마 도움이 되셨기를 바랍니다. 건강과 안정을 찾으시길 바라며, 오늘 전화를 여기서 마치도록 하겠습니다. 감사합니다.\n"
     ]
    }
   ],
   "source": [
    "full_dialogue = '\\n'.join([f'{user_msg}\\n{ai_response}' for user_msg, ai_response in history])\n",
    "\n",
    "# 결과 출력\n",
    "print(full_dialogue)"
   ]
  },
  {
   "cell_type": "code",
   "execution_count": 41,
   "metadata": {},
   "outputs": [],
   "source": [
    "file_path = 'dialogue4.txt'\n",
    "with open(file_path, 'w', encoding='utf-8') as file:\n",
    "    file.write(full_dialogue)\n"
   ]
  },
  {
   "cell_type": "code",
   "execution_count": 73,
   "metadata": {},
   "outputs": [
    {
     "name": "stdout",
     "output_type": "stream",
     "text": [
      "안녕하세요 홍길동님, 지금 현재 주거문제, 체납문제로 확인이 되는데 어려움은 없는지 궁금합니다.\n",
      "홍길동님, 월세 체납이 얼마나 되셨는지, 그리고 현재 어떤 지원이나 도움을 받고 계신지 알려주실 수 있나요?\n",
      "혹시 대화를 원하지 않으시면 말씀해 주세요, 대화를 종료할까요?\n",
      "이해했습니다. 그렇다면 현재 주거문제에 대해 구체적인 상황이 어떠한지 조금 더 자세히 말씀해 주실 수 있으신가요?\n",
      "그런 어려운 상황이시군요. 혹시 허리 부상과 관련해 치료를 받고 계시거나, 다른 새로운 문제가 발생했는지도 알려주실 수 있나요?\n",
      "정말 힘드시겠어요. 현재 주변에 도움을 요청할 수 있는 가족이나 보호자가 계신가요?\n",
      "알겠습니다, 홍길동님. 귀하의 상황을 고려하여 주거복지지원 프로그램이나 긴급복지지원 서비스에 대한 정보를 알려드릴 수 있습니다. 이러한 서비스가 도움이 될 것 같으신가요?\n",
      "홍길동님, 주거복지지원 프로그램으로는 '행복주택'이나 '국민임대주택' 등이 있고, 긴급복지지원 서비스를 통해 생계비, 의료비 지원을 받을 수 있습니다. 가까운 주민센터에 방문하셔서 상담을 받아보시는 것을 추천드립니다.\n",
      "도움이 될 수 있어 다행입니다, 홍길동님. 다른 궁금한 사항이 있으시면 언제든지 연락 주세요. 건강과 안녕을 기원합니다.\n"
     ]
    }
   ],
   "source": [
    "for i in range(0,len(history)):\n",
    "    print(history[i][1])"
   ]
  },
  {
   "cell_type": "code",
   "execution_count": 31,
   "metadata": {},
   "outputs": [
    {
     "name": "stdout",
     "output_type": "stream",
     "text": [
      "네 여보세요\n",
      "네 몸이 요새 조금 안좋아요\n",
      "네\n",
      "제가 허리가 많이 아프기도 하고 지금 목디스크가 와서 수슬을 해야할것 같아요\n",
      "아니요 없어요\n",
      "네\n",
      "네?\n",
      "네 관심있어요\n",
      "네 연결해주세요\n",
      "네 감사합니다\n"
     ]
    }
   ],
   "source": [
    "for i in range(0,len(history)):\n",
    "    print(history[i][0])"
   ]
  },
  {
   "cell_type": "code",
   "execution_count": 74,
   "metadata": {},
   "outputs": [
    {
     "name": "stdout",
     "output_type": "stream",
     "text": [
      "[('네 여보세요', '안녕하세요 홍길동님, 지금 현재 주거문제, 체납문제로 확인이 되는데 어려움은 없는지 궁금합니다.'), ('네 힘들어요 안그래도 월세가 계속 밀려가지고', '홍길동님, 월세 체납이 얼마나 되셨는지, 그리고 현재 어떤 지원이나 도움을 받고 계신지 알려주실 수 있나요?'), ('아마 두달 정도 못냈을거에요 도움 전혀 못받죠', '혹시 대화를 원하지 않으시면 말씀해 주세요, 대화를 종료할까요?'), ('괜찮아요', '이해했습니다. 그렇다면 현재 주거문제에 대해 구체적인 상황이 어떠한지 조금 더 자세히 말씀해 주실 수 있으신가요?'), ('어 제가 일을 하다가 허리를 다쳐서 더 이상 일을 못나가고 있는데 그래서 월세 체납이 되가지고요', '그런 어려운 상황이시군요. 혹시 허리 부상과 관련해 치료를 받고 계시거나, 다른 새로운 문제가 발생했는지도 알려주실 수 있나요?'), ('네 힘든 상황이에요', '정말 힘드시겠어요. 현재 주변에 도움을 요청할 수 있는 가족이나 보호자가 계신가요?'), ('같이 사는 가족은 있는데 저만 돈을 벌어서요', '알겠습니다, 홍길동님. 귀하의 상황을 고려하여 주거복지지원 프로그램이나 긴급복지지원 서비스에 대한 정보를 알려드릴 수 있습니다. 이러한 서비스가 도움이 될 것 같으신가요?'), ('네 알려주세요', \"홍길동님, 주거복지지원 프로그램으로는 '행복주택'이나 '국민임대주택' 등이 있고, 긴급복지지원 서비스를 통해 생계비, 의료비 지원을 받을 수 있습니다. 가까운 주민센터에 방문하셔서 상담을 받아보시는 것을 추천드립니다.\"), ('감사합니다', '도움이 될 수 있어 다행입니다, 홍길동님. 다른 궁금한 사항이 있으시면 언제든지 연락 주세요. 건강과 안녕을 기원합니다.')]\n"
     ]
    }
   ],
   "source": [
    "print(history)"
   ]
  },
  {
   "cell_type": "code",
   "execution_count": 11,
   "metadata": {},
   "outputs": [
    {
     "data": {
      "text/plain": [
       "'안녕하세요, 주예서님. 건강 문제로 힘드신 것 같아 연락드렸습니다. 현재 허리 통증 외에 다른 어려움은 없으신가요?'"
      ]
     },
     "execution_count": 11,
     "metadata": {},
     "output_type": "execute_result"
    }
   ],
   "source": [
    "response(\"아 지금 건강상 허리가 많이 아파요\",history)"
   ]
  },
  {
   "cell_type": "code",
   "execution_count": null,
   "metadata": {},
   "outputs": [],
   "source": [
    "# gr.ChatInterface(\n",
    "#     fn=response,\n",
    "#     textbox=gr.Textbox(placeholder=\"말걸어주세요..\", container=False, scale=7),\n",
    "#     chatbot=gr.Chatbot(height=1000),\n",
    "#     title=\"아이(윙윙이)\",\n",
    "#     description='대화가 끝나면 \"대화종료\" 를 입력해주세요',\n",
    "#     theme=\"soft\",\n",
    "#     retry_btn=\"다시보내기 ↩\",\n",
    "#     undo_btn=\"이전챗 삭제 ❌\",\n",
    "#     clear_btn=\"전챗 삭제 💫\",\n",
    "# ).launch(share=True)"
   ]
  },
  {
   "cell_type": "code",
   "execution_count": null,
   "metadata": {},
   "outputs": [],
   "source": []
  }
 ],
 "metadata": {
  "interpreter": {
   "hash": "fcacde32bb32c0469f9d34927e3672fd6d24508167c7a053d60e64e40f375a83"
  },
  "kernelspec": {
   "display_name": "Python 3.9.18 ('chatbot')",
   "language": "python",
   "name": "python3"
  },
  "language_info": {
   "codemirror_mode": {
    "name": "ipython",
    "version": 3
   },
   "file_extension": ".py",
   "mimetype": "text/x-python",
   "name": "python",
   "nbconvert_exporter": "python",
   "pygments_lexer": "ipython3",
   "version": "3.9.18"
  },
  "orig_nbformat": 4
 },
 "nbformat": 4,
 "nbformat_minor": 2
}
