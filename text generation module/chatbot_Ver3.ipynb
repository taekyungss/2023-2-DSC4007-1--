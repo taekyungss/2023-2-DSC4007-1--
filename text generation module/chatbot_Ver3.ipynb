{
 "cells": [
  {
   "cell_type": "code",
   "execution_count": 17,
   "metadata": {},
   "outputs": [],
   "source": [
    "# chatbot\n",
    "from langchain.chat_models import ChatOpenAI\n",
    "from langchain.schema import HumanMessage, SystemMessage, AIMessage\n",
    "\n",
    "# llm\n",
    "from langchain import PromptTemplate, LLMChain\n",
    "from langchain.llms import OpenAI\n",
    "\n",
    "import os\n",
    "import gradio as gr\n",
    "import os\n",
    "from playsound import playsound\n",
    "import openai\n",
    "from openai import OpenAI\n",
    "import playsound\n",
    "import speech_recognition as sr\n",
    "import pandas as pd\n",
    "\n",
    "api_key = \"내 키\"\n",
    "\n",
    "openai.api_key = api_key\n",
    "client = OpenAI\n"
   ]
  },
  {
   "cell_type": "markdown",
   "metadata": {},
   "source": [
    "보안유지 ( api_key는 유출상, github 올리지 말기)"
   ]
  },
  {
   "cell_type": "code",
   "execution_count": 5,
   "metadata": {},
   "outputs": [
    {
     "data": {
      "text/html": [
       "<div>\n",
       "<style scoped>\n",
       "    .dataframe tbody tr th:only-of-type {\n",
       "        vertical-align: middle;\n",
       "    }\n",
       "\n",
       "    .dataframe tbody tr th {\n",
       "        vertical-align: top;\n",
       "    }\n",
       "\n",
       "    .dataframe thead th {\n",
       "        text-align: right;\n",
       "    }\n",
       "</style>\n",
       "<table border=\"1\" class=\"dataframe\">\n",
       "  <thead>\n",
       "    <tr style=\"text-align: right;\">\n",
       "      <th></th>\n",
       "      <th>이름</th>\n",
       "      <th>주민등록상</th>\n",
       "      <th>문제</th>\n",
       "    </tr>\n",
       "  </thead>\n",
       "  <tbody>\n",
       "    <tr>\n",
       "      <th>0</th>\n",
       "      <td>김태경</td>\n",
       "      <td>혼자</td>\n",
       "      <td>건강보험료 연체</td>\n",
       "    </tr>\n",
       "    <tr>\n",
       "      <th>1</th>\n",
       "      <td>주예서</td>\n",
       "      <td>혼자</td>\n",
       "      <td>건강 문제</td>\n",
       "    </tr>\n",
       "    <tr>\n",
       "      <th>2</th>\n",
       "      <td>강민지</td>\n",
       "      <td>2</td>\n",
       "      <td>공과급 체납</td>\n",
       "    </tr>\n",
       "    <tr>\n",
       "      <th>3</th>\n",
       "      <td>김태현</td>\n",
       "      <td>1</td>\n",
       "      <td>가정형편, 주거관련 위기</td>\n",
       "    </tr>\n",
       "  </tbody>\n",
       "</table>\n",
       "</div>"
      ],
      "text/plain": [
       "    이름 주민등록상             문제\n",
       "0  김태경    혼자       건강보험료 연체\n",
       "1  주예서    혼자          건강 문제\n",
       "2  강민지     2         공과급 체납\n",
       "3  김태현     1  가정형편, 주거관련 위기"
      ]
     },
     "execution_count": 5,
     "metadata": {},
     "output_type": "execute_result"
    }
   ],
   "source": [
    "data = pd.read_csv(\"./data.csv\")\n",
    "data\n",
    "data.loc[3] = [\"김태현\", 1,'가정형편, 주거관련 위기']\n",
    "data"
   ]
  },
  {
   "cell_type": "code",
   "execution_count": 9,
   "metadata": {},
   "outputs": [
    {
     "name": "stdout",
     "output_type": "stream",
     "text": [
      "네 안녕하세요. 맞춤형 복지 음성 서비스 아이 입니다. 통화에 앞서 본 통화는 녹취된다는 사실 말씀드립니다\n",
      "User:  네 안녕하세요\n",
      "AI: 안녕하세요 강민지 님, 보건복지부 자료에 따르면 공과급 체납에 대한 상담이 필요하신 것으로 나타나는데, 맞으신가요?\n",
      "User:  네 맞아요\n",
      "AI: 공과급 체납에 대해 어떤 부분에서 도움이 필요하신지 구체적으로 말씀해 주실 수 있으신가요?\n",
      "User:  종료하겠습니다\n",
      "[('네 안녕하세요', '안녕하세요 강민지 님, 보건복지부 자료에 따르면 공과급 체납에 대한 상담이 필요하신 것으로 나타나는데, 맞으신가요?'), ('네 맞아요', '공과급 체납에 대해 어떤 부분에서 도움이 필요하신지 구체적으로 말씀해 주실 수 있으신가요?')]\n"
     ]
    }
   ],
   "source": [
    "a=2\n",
    "\n",
    "# 음성인식 모듈\n",
    "def recognize_speech(timeout=60):\n",
    "    recognizer = sr.Recognizer()\n",
    "    microphone = sr.Microphone()\n",
    "\n",
    "    with microphone as source:\n",
    "        recognizer.adjust_for_ambient_noise(source) \n",
    "        print(\"음성 인식 대기중\")\n",
    "        audio = recognizer.listen(source,timeout=timeout)\n",
    "\n",
    "    try:\n",
    "        text = recognizer.recognize_google(audio, language = \"ko\")\n",
    "        print(text)\n",
    "        return text \n",
    "    except sr.UnknownValueError:\n",
    "        print(\"인식할 수 없습니다.\")\n",
    "    except sr.RequestError as e:\n",
    "        print(\"인식에 문제가 있습니다.\", e)\n",
    "\n",
    "\n",
    "# tts 모듈\n",
    "def tts_module(texts):\n",
    "    voices = ['nova']\n",
    "    for i, text in enumerate(texts):\n",
    "        speech_file_path = f'text_{i}.mp3'\n",
    "        response = openai.audio.speech.create(\n",
    "            model=\"tts-1\",\n",
    "            voice=voices[i],\n",
    "            input=\" \"+text\n",
    "        )\n",
    "        response.stream_to_file(speech_file_path)\n",
    "        playsound.playsound(f\"./text_{i}.mp3\", block=True)\n",
    "        os.remove(f'./text_{i}.mp3')\n",
    "\n",
    "\n",
    "# 텍스트 생성 모듈\n",
    "chat_ai = ChatOpenAI(openai_api_key=api_key, temperature=0.5, model=\"gpt-4-1106-preview\")\n",
    "\n",
    "chat_template = f\"\"\"필수 : 나는 복지상담을 진행하는 음성봇 이다.\n",
    "한번에 한가지 질문만 한다. \n",
    "공손하고 예의바르게 말을 해야한다. \n",
    "전화통화를 하는 것처럼 대화를 해야한다. \n",
    "답변은 2줄이내로 진행한다. \n",
    "해당 전화는 본 챗봇이 먼저 전화를 건 상황이다.\n",
    "총 6번이상의 대화가 오고가도록 한다.\n",
    "음성 봇이라고 자기소개는 하지 않는다\n",
    "\n",
    "\n",
    "0. 상대방의 이름은 {data[\"이름\"][a]}이다. 해당 이름으로 대화를 한다.\n",
    "\n",
    "1. 첫 대화에 있어서 인사는 하지 않는다\n",
    "\n",
    "1. 상대방의 문제 상황은 \"{data[\"문제\"][a]}\" 이다. 보건복지부 자료에 따른 해당 문제 상황에 있는게 맞는지 친절하게 말하며 사실인지 확인한다.\n",
    "\n",
    "2. 사실이 아니라는 의미의 대답을 하면 상담이 필요 없는지 묻는다.\n",
    "\n",
    "3. 상담이 필요 없다고 대답하면 친절한 어투로 대화를 종료한다.\n",
    "\n",
    "4. 사실이 맞다면 {data[\"문제\"][a]}에 대해 구체적으로 질문한다.\n",
    "\n",
    "5. {data[\"문제\"][a]}에 대해 구체적인 상황은 어떠한지 질문을 한다.\n",
    "\n",
    "6. 상대방과 대화도중 새로운 문제나 상황이 발생했으면 그 문제,상황에 대해서 다시 구체적으로 질문한다.\n",
    "\n",
    "7. 상대방의 문제에 대해 어느정도 질문을 했으면 주변에 도움을 요청할만한 보호자가 없는지 물어본다.\n",
    "\n",
    "8. 질문이 최소 5번 이상 오가고 난 이후에, 상대방의 어려움에 관련된 복지 서비스를 추천해준다.\n",
    "\n",
    "9. 서비스를 모두 추천해준 후 추가 상담을 원한다면 대면 상담을 진행할지 비대면 상담을 진행할지 묻고, 추가 상담을 원하지 않는다면 친절한 어투로 대화를 종료한다.\n",
    "\n",
    "\"\"\"\n",
    "\n",
    "history = []  # 대화 기록 초기화\n",
    "first_ment = f'네 안녕하세요. 맞춤형 복지 음성 서비스 아이 입니다. 통화에 앞서 본 통화는 녹취된다는 사실 말씀드립니다'\n",
    "tts_module([first_ment])\n",
    "print(first_ment)\n",
    "\n",
    "\n",
    "while True:\n",
    "    # 사용자 입력 받기\n",
    "    # message = recognize_speech()\n",
    "    message = input()\n",
    "    print(\"User: \",message)\n",
    "    \n",
    "\n",
    "    # 종료하겠습니다를 입력하면 최종 요약 출력\n",
    "    if message == \"종료하겠습니다\":\n",
    "        print(history)\n",
    "        tts_module([\"네 지금까지 복지 음성 상담서비스 아이였습니다 감사합니다\"])\n",
    "        break\n",
    "\n",
    "    history_langchain_format = []\n",
    "    # 프롬프트 추가\n",
    "    history_langchain_format.append(SystemMessage(content=chat_template))\n",
    "    # 이전 대화 기억\n",
    "    for human, ai in history:\n",
    "        history_langchain_format.append(HumanMessage(content=human))\n",
    "        history_langchain_format.append(AIMessage(content=ai))\n",
    "    history_langchain_format.append(HumanMessage(content=message))\n",
    "    gpt_response = chat_ai(history_langchain_format)\n",
    "    texts = [gpt_response.content]\n",
    "    tts_module(texts)\n",
    "    \n",
    "    print(\"AI:\", gpt_response.content)\n",
    "    history.append((message, gpt_response.content))\n",
    "\n"
   ]
  },
  {
   "cell_type": "code",
   "execution_count": 10,
   "metadata": {},
   "outputs": [
    {
     "name": "stdout",
     "output_type": "stream",
     "text": [
      "네 안녕하세요\n",
      "안녕하세요 강민지 님, 보건복지부 자료에 따르면 공과급 체납에 대한 상담이 필요하신 것으로 나타나는데, 맞으신가요?\n",
      "네 맞아요\n",
      "공과급 체납에 대해 어떤 부분에서 도움이 필요하신지 구체적으로 말씀해 주실 수 있으신가요?\n"
     ]
    }
   ],
   "source": [
    "# print(history)\n",
    "\n",
    "full_dialogue = '\\n'.join([f'{user_msg}\\n{ai_response}' for user_msg, ai_response in history])\n",
    "\n",
    "# 결과 출력\n",
    "print(full_dialogue)"
   ]
  },
  {
   "cell_type": "code",
   "execution_count": null,
   "metadata": {},
   "outputs": [],
   "source": [
    "file_path = 'dialogue4.txt'\n",
    "with open(file_path, 'w', encoding='utf-8') as file:\n",
    "    file.write(full_dialogue)"
   ]
  },
  {
   "cell_type": "code",
   "execution_count": 11,
   "metadata": {},
   "outputs": [
    {
     "name": "stdout",
     "output_type": "stream",
     "text": [
      "네 안녕하세요\n",
      "네 맞아요\n"
     ]
    }
   ],
   "source": [
    "for i in range(0,len(history)):\n",
    "    print(history[i][0])"
   ]
  },
  {
   "cell_type": "markdown",
   "metadata": {},
   "source": [
    "Evaluation => 멘토님이 말한 부분 구현 \n",
    "\n",
    "(원래는 translation task에 쓰이는데 대화 생성에도 쓰일 수 있음)\n",
    "\n",
    "\n",
    "### BLEU SCORE\n"
   ]
  },
  {
   "cell_type": "code",
   "execution_count": 12,
   "metadata": {},
   "outputs": [],
   "source": [
    "# 단순 카운트 함수\n",
    "\n",
    "def simple_count(tokens, n): # 토큰화 된 candidate 문장, n-gram에서의 n 이 두 가지를 인자로 받음.\n",
    "    return Counter(ngrams(tokens, n)) #문장에서 n-gram을 카운\n",
    "\n",
    "# count_clip 이름을 가진 함수 구현\n",
    "\n",
    "def count_clip(candidate, reference_list, n):\n",
    "    cnt_ca = simple_count(candidate, n)\n",
    "    # Ca 문장에서 n-gram 카운트\n",
    "    temp = dict()\n",
    "\n",
    "    for ref in reference_list: # 다수의 Ref 문장에 대해서 이하 반복\n",
    "        cnt_ref = simple_count(ref, n)\n",
    "        # Ref 문장에서 n-gram 카운트\n",
    "\n",
    "        for n_gram in cnt_ref: # 모든 Ref에 대해서 비교하여 특정 n-gram이 하나의 Ref에 가장 많이 등장한 횟수를 저장\n",
    "            if n_gram in temp:\n",
    "                temp[n_gram] = max(cnt_ref[n_gram], temp[n_gram]) # max_ref_count\n",
    "            else:\n",
    "                temp[n_gram] = cnt_ref[n_gram]\n",
    "\n",
    "    return {\n",
    "        n_gram: min(cnt_ca.get(n_gram, 0), temp.get(n_gram, 0)) for n_gram in cnt_ca\n",
    "        # count_clip=min(count, max_ref_count)\n",
    "        # 위의 get은 찾고자 하는 n-gram이 없으면 0을 반환한다.\n",
    "     }\n",
    "\n",
    "# 보정된 정밀도를 연산하는 함수를 modified_precision란 이름의 함수로 구현\n",
    "\n",
    "def modified_precision(candidate, reference_list, n):\n",
    "    clip = count_clip(candidate, reference_list, n) \n",
    "    total_clip = sum(clip.values()) # 분자\n",
    "\n",
    "    ct = simple_count(candidate, n)\n",
    "    total_ct = sum(ct.values()) #분모\n",
    "\n",
    "    if total_ct==0: # n-gram의 n이 커졌을 때 분모가 0이 되는 것을 방지\n",
    "      total_ct=1\n",
    "\n",
    "    return (total_clip / total_ct) # 보정된 정밀도\n",
    "    # count_clip의 합을 분자로 하고 단순 count의 합을 분모로 하면 보정된 정밀도\n",
    "\n",
    "def closest_ref_length(candidate, reference_list): # Ca 길이와 가장 근접한 Ref의 길이를 리턴하는 함수\n",
    "    ca_len = len(candidate) # ca 길이\n",
    "    ref_lens = (len(ref) for ref in reference_list) # Ref들의 길이\n",
    "    closest_ref_len = min(ref_lens, key=lambda ref_len: (abs(ref_len - ca_len), ref_len))\n",
    "    # 길이 차이를 최소화하는 Ref를 찾아서 Ref의 길이를 리턴\n",
    "    return closest_ref_len\n",
    "\n",
    "# brevity_penalty를 구현\n",
    "\n",
    "def brevity_penalty(candidate, reference_list):\n",
    "    ca_len = len(candidate)\n",
    "    ref_len = closest_ref_length(candidate, reference_list)\n",
    "\n",
    "    if ca_len > ref_len:\n",
    "        return 1\n",
    "    elif ca_len == 0 :\n",
    "    # candidate가 비어있다면 BP = 0 → BLEU = 0.0\n",
    "        return 0\n",
    "    else:\n",
    "        return np.exp(1 - ref_len/ca_len)"
   ]
  },
  {
   "cell_type": "code",
   "execution_count": 13,
   "metadata": {},
   "outputs": [],
   "source": [
    "def bleu_score(candidate, reference_list, weights=[0.25, 0.25, 0.25, 0.25]):\n",
    "    bp = brevity_penalty(candidate, reference_list) # 브레버티 패널티, BP\n",
    "\n",
    "    p_n = [modified_precision(candidate, reference_list, n=n) for n, _ in enumerate(weights,start=1)] \n",
    "    #p1, p2, p3, ..., pn\n",
    "    score = np.sum([w_i * np.log(p_i) if p_i != 0 else 0 for w_i, p_i in zip(weights, p_n)])\n",
    "    return bp * np.exp(score)"
   ]
  },
  {
   "cell_type": "code",
   "execution_count": 14,
   "metadata": {},
   "outputs": [
    {
     "name": "stdout",
     "output_type": "stream",
     "text": [
      "0.6009638585283708\n",
      "1.0948551819675659e-231\n"
     ]
    },
    {
     "name": "stderr",
     "output_type": "stream",
     "text": [
      "C:\\Users\\taekyung\\.conda\\envs\\chat\\lib\\site-packages\\nltk\\translate\\bleu_score.py:552: UserWarning: \n",
      "The hypothesis contains 0 counts of 2-gram overlaps.\n",
      "Therefore the BLEU score evaluates to 0, independently of\n",
      "how many N-gram overlaps of lower order it contains.\n",
      "Consider using lower n-gram order or use SmoothingFunction()\n",
      "  warnings.warn(_msg)\n",
      "C:\\Users\\taekyung\\.conda\\envs\\chat\\lib\\site-packages\\nltk\\translate\\bleu_score.py:552: UserWarning: \n",
      "The hypothesis contains 0 counts of 3-gram overlaps.\n",
      "Therefore the BLEU score evaluates to 0, independently of\n",
      "how many N-gram overlaps of lower order it contains.\n",
      "Consider using lower n-gram order or use SmoothingFunction()\n",
      "  warnings.warn(_msg)\n",
      "C:\\Users\\taekyung\\.conda\\envs\\chat\\lib\\site-packages\\nltk\\translate\\bleu_score.py:552: UserWarning: \n",
      "The hypothesis contains 0 counts of 4-gram overlaps.\n",
      "Therefore the BLEU score evaluates to 0, independently of\n",
      "how many N-gram overlaps of lower order it contains.\n",
      "Consider using lower n-gram order or use SmoothingFunction()\n",
      "  warnings.warn(_msg)\n"
     ]
    }
   ],
   "source": [
    "from collections import Counter\n",
    "import numpy as np\n",
    "from nltk import ngrams\n",
    "import nltk.translate.bleu_score as bleu\n",
    "\n",
    "\n",
    "candidate = \"안녕하세요, 김태현 님. 복지 상담센터 '아이'입니다. 김태현 님의 가정형편과 주거 관련 위기 상황에 대해 도움을 드리고자 연락을 드렸습니다. 현재 그러한 문제 상황이 있으신가요?\"\n",
    "references = [\n",
    "    '제가 전화드린 이유는 정기적으로 가정 형편이나 주거 관련해서 위기 사항이 있으신 분에 대해서 복지부에서 정보가 내려와서 정기적으로 전화를 드리고 있습니다',\n",
    "    '혹시 지금 위기 상황으로 확인이 되셔서 저희가 연락을 드렸는데요. 어떤 어려운 점 있으신가요'\n",
    "]\n",
    "\n",
    "print(bleu_score(candidate.split(),list(map(lambda ref: ref.split(), references))))\n",
    "# 이번 챕터에서 구현한 코드로 계산한 BLEU 점수\n",
    "print(bleu.sentence_bleu(list(map(lambda ref: ref.split(), references)),candidate.split()))\n",
    "# NLTK 패키지 구현되어져 있는 코드로 계산한 BLEU 점수"
   ]
  },
  {
   "cell_type": "code",
   "execution_count": 15,
   "metadata": {},
   "outputs": [
    {
     "name": "stdout",
     "output_type": "stream",
     "text": [
      "0.28947421495675085\n",
      "3.5354605262379067e-78\n"
     ]
    }
   ],
   "source": [
    "candidate = \"혹시 주변에 도움을 요청하실 수 있는 가족이나 친구와 같은 보호자가 계신가요?\"\n",
    "references = [\n",
    "    '선생님 혹시 지금 이제 거주하시면서 도움을 청할 수 있는 가족이나 지인분들 이런 식으로 연락하실 수 있는 곳은 혹시 있으세요?'\n",
    "    ,'가족분들이랑 같이 사시는 경우도 많거든요. 그래서 그런데 지금 혹시 혼자 거주하고 계세요?'\n",
    "]\n",
    "\n",
    "print(bleu_score(candidate.split(),list(map(lambda ref: ref.split(), references))))\n",
    "print(bleu.sentence_bleu(list(map(lambda ref: ref.split(), references)),candidate.split()))\n"
   ]
  },
  {
   "cell_type": "code",
   "execution_count": 16,
   "metadata": {},
   "outputs": [
    {
     "name": "stdout",
     "output_type": "stream",
     "text": [
      "0.43012508513132625\n",
      "6.416038883891965e-155\n"
     ]
    }
   ],
   "source": [
    "candidate = \"혹시 주거 관련해서 특별한 어려움이 있으실까요?\"\n",
    "references = [\n",
    "\"구체적으로 어떤 어려움을 겪고 계신지 말씀해 주실 수 있으신가요?\",\n",
    "\"선생님이 실제 생활하시는 데 어려움이 있으면 저희가 도움을 드리고자 이렇게 말씀을 드리는 거고요.\",\n",
    "\"실직을 하셨다든지 고용에 불안정하시다든지 그런 어려움이 있으실까요?\"\n",
    "]\n",
    "\n",
    "print(bleu_score(candidate.split(),list(map(lambda ref: ref.split(), references))))\n",
    "print(bleu.sentence_bleu(list(map(lambda ref: ref.split(), references)),candidate.split()))\n"
   ]
  },
  {
   "cell_type": "code",
   "execution_count": null,
   "metadata": {},
   "outputs": [],
   "source": []
  }
 ],
 "metadata": {
  "interpreter": {
   "hash": "fcacde32bb32c0469f9d34927e3672fd6d24508167c7a053d60e64e40f375a83"
  },
  "kernelspec": {
   "display_name": "Python 3.9.18 ('chatbot')",
   "language": "python",
   "name": "python3"
  },
  "language_info": {
   "codemirror_mode": {
    "name": "ipython",
    "version": 3
   },
   "file_extension": ".py",
   "mimetype": "text/x-python",
   "name": "python",
   "nbconvert_exporter": "python",
   "pygments_lexer": "ipython3",
   "version": "3.10.13"
  },
  "orig_nbformat": 4
 },
 "nbformat": 4,
 "nbformat_minor": 2
}
